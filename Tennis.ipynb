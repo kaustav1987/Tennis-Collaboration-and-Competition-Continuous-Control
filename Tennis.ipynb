{
 "cells": [
  {
   "cell_type": "markdown",
   "metadata": {},
   "source": [
    "# Collaboration and Competition\n",
    "\n",
    "---\n",
    "\n",
    "\n",
    "### 1. Start the Environment\n",
    "\n",
    "We begin by importing the necessary packages.  If the code cell below returns an error, please revisit the project instructions to double-check that you have installed [Unity ML-Agents](https://github.com/Unity-Technologies/ml-agents/blob/master/docs/Installation.md) and [NumPy](http://www.numpy.org/)."
   ]
  },
  {
   "cell_type": "code",
   "execution_count": 1,
   "metadata": {},
   "outputs": [],
   "source": [
    "from unityagents import UnityEnvironment\n",
    "import numpy as np"
   ]
  },
  {
   "cell_type": "markdown",
   "metadata": {},
   "source": [
    "Next, we will start the environment!  **_Before running the code cell below_**, change the `file_name` parameter to match the location of the Unity environment that you downloaded.\n",
    "\n",
    "- **Mac**: `\"path/to/Tennis.app\"`\n",
    "- **Windows** (x86): `\"path/to/Tennis_Windows_x86/Tennis.exe\"`\n",
    "- **Windows** (x86_64): `\"path/to/Tennis_Windows_x86_64/Tennis.exe\"`\n",
    "- **Linux** (x86): `\"path/to/Tennis_Linux/Tennis.x86\"`\n",
    "- **Linux** (x86_64): `\"path/to/Tennis_Linux/Tennis.x86_64\"`\n",
    "- **Linux** (x86, headless): `\"path/to/Tennis_Linux_NoVis/Tennis.x86\"`\n",
    "- **Linux** (x86_64, headless): `\"path/to/Tennis_Linux_NoVis/Tennis.x86_64\"`\n",
    "\n",
    "For instance, if you are using a Mac, then you downloaded `Tennis.app`.  If this file is in the same folder as the notebook, then the line below should appear as follows:\n",
    "```\n",
    "env = UnityEnvironment(file_name=\"Tennis.app\")\n",
    "```"
   ]
  },
  {
   "cell_type": "code",
   "execution_count": 2,
   "metadata": {},
   "outputs": [
    {
     "name": "stderr",
     "output_type": "stream",
     "text": [
      "INFO:unityagents:\n",
      "'Academy' started successfully!\n",
      "Unity Academy name: Academy\n",
      "        Number of Brains: 1\n",
      "        Number of External Brains : 1\n",
      "        Lesson number : 0\n",
      "        Reset Parameters :\n",
      "\t\t\n",
      "Unity brain name: TennisBrain\n",
      "        Number of Visual Observations (per agent): 0\n",
      "        Vector Observation space type: continuous\n",
      "        Vector Observation space size (per agent): 8\n",
      "        Number of stacked Vector Observation: 3\n",
      "        Vector Action space type: continuous\n",
      "        Vector Action space size (per agent): 2\n",
      "        Vector Action descriptions: , \n"
     ]
    }
   ],
   "source": [
    "env = UnityEnvironment(file_name=\"./Tennis.exe\")"
   ]
  },
  {
   "cell_type": "markdown",
   "metadata": {},
   "source": [
    "Environments contain **_brains_** which are responsible for deciding the actions of their associated agents. Here we check for the first brain available, and set it as the default brain we will be controlling from Python."
   ]
  },
  {
   "cell_type": "code",
   "execution_count": 3,
   "metadata": {},
   "outputs": [],
   "source": [
    "# get the default brain\n",
    "brain_name = env.brain_names[0]\n",
    "brain = env.brains[brain_name]"
   ]
  },
  {
   "cell_type": "markdown",
   "metadata": {},
   "source": [
    "### 2. Examine the State and Action Spaces\n",
    "\n",
    "In this environment, two agents control rackets to bounce a ball over a net. If an agent hits the ball over the net, it receives a reward of +0.1.  If an agent lets a ball hit the ground or hits the ball out of bounds, it receives a reward of -0.01.  Thus, the goal of each agent is to keep the ball in play.\n",
    "\n",
    "The observation space consists of 8 variables corresponding to the position and velocity of the ball and racket. Two continuous actions are available, corresponding to movement toward (or away from) the net, and jumping. \n",
    "\n",
    "Run the code cell below to print some information about the environment."
   ]
  },
  {
   "cell_type": "code",
   "execution_count": 4,
   "metadata": {},
   "outputs": [
    {
     "name": "stdout",
     "output_type": "stream",
     "text": [
      "Number of agents: 2\n",
      "Size of each action: 2\n",
      "There are 2 agents. Each observes a state with length: 24\n",
      "The state for the first agent looks like: [ 0.          0.          0.          0.          0.          0.\n",
      "  0.          0.          0.          0.          0.          0.\n",
      "  0.          0.          0.          0.         -6.65278625 -1.5\n",
      " -0.          0.          6.83172083  6.         -0.          0.        ]\n"
     ]
    }
   ],
   "source": [
    "# reset the environment\n",
    "env_info = env.reset(train_mode=True)[brain_name]\n",
    "\n",
    "# number of agents \n",
    "num_agents = len(env_info.agents)\n",
    "print('Number of agents:', num_agents)\n",
    "\n",
    "# size of each action\n",
    "action_size = brain.vector_action_space_size\n",
    "print('Size of each action:', action_size)\n",
    "\n",
    "# examine the state space \n",
    "states = env_info.vector_observations\n",
    "state_size = states.shape[1]\n",
    "print('There are {} agents. Each observes a state with length: {}'.format(states.shape[0], state_size))\n",
    "print('The state for the first agent looks like:', states[0])"
   ]
  },
  {
   "cell_type": "code",
   "execution_count": 5,
   "metadata": {},
   "outputs": [
    {
     "data": {
      "text/plain": [
       "(2, 24)"
      ]
     },
     "execution_count": 5,
     "metadata": {},
     "output_type": "execute_result"
    }
   ],
   "source": [
    "states.shape"
   ]
  },
  {
   "cell_type": "markdown",
   "metadata": {},
   "source": [
    "### 3. Take Random Actions in the Environment\n",
    "\n",
    "In the next code cell, you will learn how to use the Python API to control the agents and receive feedback from the environment.\n",
    "\n",
    "Once this cell is executed, you will watch the agents' performance, if they select actions at random with each time step.  A window should pop up that allows you to observe the agents.\n",
    "\n",
    "Of course, as part of the project, you'll have to change the code so that the agents are able to use their experiences to gradually choose better actions when interacting with the environment!"
   ]
  },
  {
   "cell_type": "code",
   "execution_count": 6,
   "metadata": {},
   "outputs": [
    {
     "name": "stdout",
     "output_type": "stream",
     "text": [
      "Score (max over agents) from episode 1: 0.0\n",
      "Score (max over agents) from episode 2: 0.0\n",
      "Score (max over agents) from episode 3: 0.0\n",
      "Score (max over agents) from episode 4: 0.0\n",
      "Score (max over agents) from episode 5: 0.09000000171363354\n"
     ]
    }
   ],
   "source": [
    "for i in range(1, 6):                                      # play game for 5 episodes\n",
    "    env_info = env.reset(train_mode=False)[brain_name]     # reset the environment    \n",
    "    states = env_info.vector_observations                  # get the current state (for each agent)\n",
    "    scores = np.zeros(num_agents)                          # initialize the score (for each agent)\n",
    "    while True:\n",
    "        actions = np.random.randn(num_agents, action_size) # select an action (for each agent)\n",
    "\n",
    "        actions = np.clip(actions, -1, 1)                  # all actions between -1 and 1\n",
    "        env_info = env.step(actions)[brain_name]           # send all actions to tne environment\n",
    "        next_states = env_info.vector_observations         # get next state (for each agent)\n",
    "        rewards = env_info.rewards                         # get reward (for each agent)\n",
    "        dones = env_info.local_done                        # see if episode finished\n",
    "        scores += env_info.rewards                         # update the score (for each agent)\n",
    "        states = next_states                               # roll over states to next time step\n",
    "        if np.any(dones):                                  # exit loop if episode finished\n",
    "            break\n",
    "    print('Score (max over agents) from episode {}: {}'.format(i, np.max(scores)))"
   ]
  },
  {
   "cell_type": "markdown",
   "metadata": {},
   "source": [
    "### 4. It's Your Turn!\n",
    "\n",
    "Now it's your turn to train your own agent to solve the environment!  When training the environment, set `train_mode=True`, so that the line for resetting the environment looks like the following:\n",
    "```python\n",
    "env_info = env.reset(train_mode=True)[brain_name]\n",
    "```"
   ]
  },
  {
   "cell_type": "code",
   "execution_count": 7,
   "metadata": {},
   "outputs": [],
   "source": [
    "from actor import Actor\n",
    "from critic import Critic\n",
    "#from agent import Agent"
   ]
  },
  {
   "cell_type": "code",
   "execution_count": 8,
   "metadata": {},
   "outputs": [],
   "source": [
    "import torch\n",
    "import numpy as np\n",
    "\n",
    "##Hyperparameters\n",
    "\n",
    "BUFFER_SIZE = int(1e6)  # Total buffer size\n",
    "BATCH_SIZE = 128        # minibatch size\n",
    "GAMMA = 0.99            # discount factor\n",
    "TAU = 2e-1              # for soft update of target parameters\n",
    "LR_ACTOR = 1e-4         # learning rate for Actor\n",
    "LR_CRITIC = 3e-4        # learning rate for Critic\n",
    "WEIGHT_DECAY = 0        # L2 weight decay\n",
    "sd= 1e-4                ##Standard deviation of noise not used\n",
    "share_memory_flag= True ## Memory shared between actors \n",
    "#                       ##so that both of them can learn from each others experience\n",
    "\n",
    "if torch.cuda.is_available():\n",
    "    device = 'cuda:0'\n",
    "else:\n",
    "    device = 'cpu'"
   ]
  },
  {
   "cell_type": "code",
   "execution_count": 9,
   "metadata": {},
   "outputs": [],
   "source": [
    "# the memory and the noise are shared between the actors\n",
    "from memory import ReplayBuffer\n",
    "from noise import OUNoise\n",
    "shared_memory = ReplayBuffer( action_size,BUFFER_SIZE, BATCH_SIZE,device)\n",
    "## Noise added to individual Actors. This noise is not used for this project\n",
    "##I still kept it in case you want to use\n",
    "noise = OUNoise(action_size, 0)"
   ]
  },
  {
   "cell_type": "code",
   "execution_count": 10,
   "metadata": {},
   "outputs": [],
   "source": [
    "# reset the environment\n",
    "env_info = env.reset(train_mode=True)[brain_name]\n",
    "\n",
    "# number of agents \n",
    "num_agents = len(env_info.agents)\n",
    "n_agents = num_agents\n",
    "# size of each action\n",
    "action_size = brain.vector_action_space_size\n",
    "\n",
    "# examine the state space \n",
    "states = env_info.vector_observations\n",
    "state_size = states.shape[1]\n"
   ]
  },
  {
   "cell_type": "code",
   "execution_count": 11,
   "metadata": {},
   "outputs": [],
   "source": [
    "#Agent0 = Agent(action_size, state_size,BUFFER_SIZE, BATCH_SIZE,LR_ACTOR,LR_CRITIC,device,WEIGHT_DECAY,seed=0)\n",
    "#Agent1 = Agent(action_size, state_size,BUFFER_SIZE, BATCH_SIZE,LR_ACTOR,LR_CRITIC,device,WEIGHT_DECAY,seed=1)"
   ]
  },
  {
   "cell_type": "code",
   "execution_count": 12,
   "metadata": {},
   "outputs": [],
   "source": [
    "multi_agents_actor = []\n",
    "for i in range(n_agents):\n",
    "    ##2 actors\n",
    "    multi_agents_actor.append(Actor(action_size, state_size,BUFFER_SIZE, BATCH_SIZE,LR_ACTOR,LR_CRITIC,device,\n",
    "                              WEIGHT_DECAY,TAU,shared_memory,noise,share_memory_flag,seed=i))\n",
    "\n",
    "##One Critic for 2 actors\n",
    "multi_agents_critic= Critic(action_size, state_size,BUFFER_SIZE, BATCH_SIZE,LR_ACTOR,LR_CRITIC,device,\n",
    "                              WEIGHT_DECAY,TAU,share_memory_flag, seed=0)\n",
    "\n",
    "##Note : Noise passed here is not used\n"
   ]
  },
  {
   "cell_type": "code",
   "execution_count": 13,
   "metadata": {},
   "outputs": [
    {
     "name": "stdout",
     "output_type": "stream",
     "text": [
      "ActorNN(\n",
      "  (FC1): Linear(in_features=24, out_features=512, bias=True)\n",
      "  (FC2): Linear(in_features=512, out_features=256, bias=True)\n",
      "  (FC3): Linear(in_features=256, out_features=2, bias=True)\n",
      ")\n",
      "ActorNN(\n",
      "  (FC1): Linear(in_features=24, out_features=512, bias=True)\n",
      "  (FC2): Linear(in_features=512, out_features=256, bias=True)\n",
      "  (FC3): Linear(in_features=256, out_features=2, bias=True)\n",
      ")\n",
      "CriticNN(\n",
      "  (FC1): Linear(in_features=24, out_features=512, bias=True)\n",
      "  (FC2): Linear(in_features=514, out_features=256, bias=True)\n",
      "  (FC3): Linear(in_features=256, out_features=1, bias=True)\n",
      ")\n"
     ]
    }
   ],
   "source": [
    "print(multi_agents_actor[0].actor_local)\n",
    "\n",
    "print(multi_agents_actor[1].actor_local)\n",
    "\n",
    "print(multi_agents_critic.critic_local)"
   ]
  },
  {
   "cell_type": "markdown",
   "metadata": {},
   "source": [
    "### Learning Algorithm"
   ]
  },
  {
   "cell_type": "markdown",
   "metadata": {},
   "source": [
    "Deep Deterministic Policy Gradient (DDPG) is an algorithm which concurrently learns a Q-function and a policy. The actor NN learns the policy here to provide us the action. The critic NN learn the Q values to let us the reward for taking the action.It can learn policies in high-dimensional, continuous action spaces.It makes use of Replay buffer so that we dont throw away the (State, action, rewards,nextState) tuple after learning from it once. SO we store them in a Deque and once the Deque size is >= Batch Size , we start sampling frm the Deque to start learning from it. It also uses target NN( to make advantage of Fixed Q Targets). The target network is a clone of the policy network. Its weights are frozen with the original policy network’s weights, and we update the weights in the target network. Here the target network is updated once per main network update by polyak averaging( TAU x current NN + (1-TAU) x TARGET NN).\n",
    "\n",
    "The tennis game has 2 agents.I have used 2 separate actors.But I have used 1 single critic. The states are 24 sized vector. So the Q values for these State and Action taken should be same whether you are playing from right side or left side. In the previous project we have used Ornstein-Uhlenbeck Noise. But here a agent may have to move in the front or the back. So the agent is not always moving in the same direction. Hence I have not used the Ornstein-Uhlenbeck Noise. Even a standard normal noise with sd of .001 doesnt help. So I have not used the noise while training.\n",
    "\n",
    "I have used a memory that is shared between both the actors so that each of them can learn from both the agent's experience.\n",
    "This helps me converge 30 episodes earlier.\n",
    "\n",
    "The hyperparameters: \n",
    "- Learning Rate: 1e-4 (in both Actor)  - Learning Rate: 3e-4 (in Critic)  - Batch Size: 128   - Replay Buffer: 1e6   - Gamma: 0.99   - Tau: 2e-1   For the neural models:       - Actor         - Hidden: (input, 512)  - ReLU     - Hidden: (512,256)    - ReLU     - Output: (256,2)  - TanH. The action output is clipped between -1 and 1.   - Critic     - Hidden: (input, 512)              - ReLU     - Hidden: (512 + action_size, 256)  - ReLU     - Output: (256, 1)"
   ]
  },
  {
   "cell_type": "code",
   "execution_count": 14,
   "metadata": {},
   "outputs": [],
   "source": [
    "def checkpoint(n_agents, actor, critic):\n",
    "    for i in range(n_agents):\n",
    "        actor_checkpoint_filename = 'actor'+ str(i) + '.pth'\n",
    "\n",
    "        torch.save(actor[i].actor_local.state_dict(), actor_checkpoint_filename)\n",
    "    critic_checkpoint_filename = 'critic'+ '0' + '.pth'\n",
    "    torch.save(critic.critic_local.state_dict(), critic_checkpoint_filename)"
   ]
  },
  {
   "cell_type": "code",
   "execution_count": 31,
   "metadata": {},
   "outputs": [
    {
     "name": "stdout",
     "output_type": "stream",
     "text": [
      "\tAgent 1 .Actor Loaded \tAgent 2 .Actor Loaded \tCritic Loaded\n"
     ]
    }
   ],
   "source": [
    "##Loaded last trained model\n",
    "for i in range(n_agents):\n",
    "    ##Load 2 actors\n",
    "    actor_checkpoint_filename = 'actor'+ str(i) + '.pth'\n",
    "    \n",
    "    ##Load the trained actor and critic to continue training\n",
    "    if os.path.exists(os.path.join('./'+ actor_checkpoint_filename)):\n",
    "        multi_agents_actor[i].actor_local.load_state_dict(torch.load(os.path.join('./'+ actor_checkpoint_filename)))\n",
    "        print('\\tAgent',i+1,'.Actor Loaded ', end =\"\")\n",
    "\n",
    "critic_checkpoint_filename = 'critic'+ '0' + '.pth'\n",
    "if os.path.exists(os.path.join('./'+ critic_checkpoint_filename)):\n",
    "    multi_agents_critic.critic_local.load_state_dict(torch.load(os.path.join('./'+ critic_checkpoint_filename)))\n",
    "    print('\\tCritic Loaded', end= '\\n')"
   ]
  },
  {
   "cell_type": "code",
   "execution_count": 23,
   "metadata": {
    "scrolled": true
   },
   "outputs": [
    {
     "name": "stdout",
     "output_type": "stream",
     "text": [
      "\tAgent 1 .Actor Loaded \tAgent 2 .Actor Loaded \tCritic Loaded\n",
      "Episode: \t100 \tScore: \t2.6000 \tAverage Score: \t1.6656\n",
      "Environment solved in episode \t100\n"
     ]
    }
   ],
   "source": [
    "from collections import namedtuple, deque\n",
    "import os\n",
    "scores_deque = deque(maxlen = 100)\n",
    "scores = []\n",
    "n_episodes=3000\n",
    "best_score = -np.inf\n",
    "\n",
    "##Loaded last trained model\n",
    "for i in range(n_agents):\n",
    "    ##Load 2 actors\n",
    "    actor_checkpoint_filename = 'actor'+ str(i) + '.pth'\n",
    "    \n",
    "    ##Load the trained actor and critic to continue training\n",
    "    if os.path.exists(os.path.join('./'+ actor_checkpoint_filename)):\n",
    "        multi_agents_actor[i].actor_local.load_state_dict(torch.load(os.path.join('./'+ actor_checkpoint_filename)))\n",
    "        print('\\tAgent',i+1,'.Actor Loaded ', end =\"\")\n",
    "\n",
    "critic_checkpoint_filename = 'critic'+ '0' + '.pth'\n",
    "if os.path.exists(os.path.join('./'+ critic_checkpoint_filename)):\n",
    "    multi_agents_critic.critic_local.load_state_dict(torch.load(os.path.join('./'+ critic_checkpoint_filename)))\n",
    "    print('\\tCritic Loaded', end= '\\n')\n",
    "\n",
    "for episode in range(1, n_episodes+1):\n",
    "    \n",
    "    env_info = env.reset(train_mode=True)[brain_name]     # reset the environment    \n",
    "    states = env_info.vector_observations                 # get the current state (for each agent)\n",
    "    score = np.zeros(num_agents)                          # initialize the score (for each agent)\n",
    "    \n",
    "    ##reset the noise\n",
    "    for i in range(n_agents):\n",
    "        multi_agents_actor[i].reset()\n",
    "    \n",
    "    while True:\n",
    "        #print(episode)\n",
    "        actions =[]\n",
    "        ##Deal with each agent separately\n",
    "        for i in range(n_agents):\n",
    "            \n",
    "            #multistate[i] = states[i]\n",
    "            \n",
    "            #states = states.reshape(1,-1)\n",
    "            ##action = multi_agents[i].act(states[i].reshape(1,-1))\n",
    "            action = multi_agents_actor[i].act(states[i], noise= False)\n",
    "            actions.append(action)\n",
    "        \n",
    "        actions = np.vstack([action for action in actions])\n",
    "        env_info = env.step(actions.reshape(-1))[brain_name]           # send all actions to tne environment\n",
    "    \n",
    "        next_states = env_info.vector_observations         # get next state (for each agent)\n",
    "        #next_states = next_states.reshape(1,-1)\n",
    "        rewards = env_info.rewards                         # get reward (for each agent)\n",
    "        dones = env_info.local_done                        # see if episode finished\n",
    "        \n",
    "        ##Deal with each agent separately\n",
    "        for i in range(n_agents):\n",
    "            #print(states[i].reshape(1,-1).shape,\n",
    "            #      next_states[i].reshape(1,-1).shape,actions[i].reshape(1,-1).shape )\n",
    "            #print(actions[i].shape)\n",
    "            \n",
    "            multi_agents_actor[i].step(states[i].reshape(1,-1), actions[i].reshape(1,-1), rewards[i], \n",
    "                                 next_states[i].reshape(1,-1), dones[i])\n",
    "        multi_agents_critic.step(multi_agents_actor[0], shared_memory,GAMMA)\n",
    "        multi_agents_critic.step(multi_agents_actor[1], shared_memory,GAMMA)\n",
    "        score += rewards                                    # update the score (for each agent)\n",
    "        states = next_states                                 # roll over states to next time step\n",
    "        if np.any( dones ):\n",
    "            break\n",
    "        ## End of 1 episode\n",
    "    scores.append(np.max(score))\n",
    "    scores_deque.append(np.max(score))\n",
    "    print('\\rEpisode: \\t{} \\tScore: \\t{:.4f} \\tAverage Score: \\t{:.4f}'.format(episode, np.max(score), \n",
    "                                                                                   np.mean(scores_deque)), end=\"\") \n",
    "    if  np.max(score) > best_score:\n",
    "        best_score = np.max(score) \n",
    "        ##Save Actor and Critic for each agents\n",
    "        checkpoint(n_agents, multi_agents_actor, multi_agents_critic)\n",
    "    if  np.mean(scores_deque) > 0.6 and len(scores_deque) == 100:\n",
    "        print('\\nEnvironment solved in episode \\t{}'.format(episode) )\n",
    "        checkpoint(n_agents, multi_agents_actor, multi_agents_critic)\n",
    "        break\n",
    "    "
   ]
  },
  {
   "cell_type": "code",
   "execution_count": null,
   "metadata": {},
   "outputs": [],
   "source": [
    "##At the end, I just trained it a bit extra, to see what score I may achieve \n",
    "##if I go on for 100 more episodes after the milestone is achieved.\n",
    "\n",
    "## For the plots related to the training for all the episodes from the begining of the training please see below"
   ]
  },
  {
   "cell_type": "code",
   "execution_count": 18,
   "metadata": {},
   "outputs": [
    {
     "data": {
      "image/png": "[encoded data removed]",
      "text/plain": [
       "<Figure size 432x288 with 1 Axes>"
      ]
     },
     "metadata": {
      "needs_background": "light"
     },
     "output_type": "display_data"
    }
   ],
   "source": [
    "import matplotlib.pyplot as plt\n",
    "\n",
    "\n",
    "fig = plt.figure()\n",
    "ax = fig.add_subplot(111)\n",
    "plt.plot(np.arange(1, len(multi_agents_actor[0].actor_loss)+1), multi_agents_actor[0].actor_loss)\n",
    "plt.ylabel('Actor loss')\n",
    "plt.xlabel('Timeframe')\n",
    "plt.title('Actor Loss over Timeframe')\n",
    "plt.show()"
   ]
  },
  {
   "cell_type": "code",
   "execution_count": 17,
   "metadata": {},
   "outputs": [
    {
     "data": {
      "image/png": "[encoded data removed]",
      "text/plain": [
       "<Figure size 432x288 with 1 Axes>"
      ]
     },
     "metadata": {
      "needs_background": "light"
     },
     "output_type": "display_data"
    }
   ],
   "source": [
    "import matplotlib.pyplot as plt\n",
    "\n",
    "\n",
    "fig = plt.figure()\n",
    "ax = fig.add_subplot(111)\n",
    "plt.plot(np.arange(1, len(multi_agents_critic.critic_loss)+1), multi_agents_critic.critic_loss)\n",
    "plt.ylabel('Critic loss')\n",
    "plt.xlabel('Timeframe')\n",
    "plt.title('Critic Loss over Timeframe')\n",
    "plt.show()"
   ]
  },
  {
   "cell_type": "code",
   "execution_count": 11,
   "metadata": {},
   "outputs": [],
   "source": [
    "#multi_agents[1].actor_loss"
   ]
  },
  {
   "cell_type": "code",
   "execution_count": 8,
   "metadata": {},
   "outputs": [],
   "source": [
    "env.close()"
   ]
  },
  {
   "cell_type": "code",
   "execution_count": null,
   "metadata": {},
   "outputs": [],
   "source": [
    "### To much oscillation with the noise"
   ]
  },
  {
   "cell_type": "code",
   "execution_count": 22,
   "metadata": {},
   "outputs": [
    {
     "data": {
      "image/png": "[encoded data removed]",
      "text/plain": [
       "<Figure size 432x288 with 1 Axes>"
      ]
     },
     "metadata": {
      "needs_background": "light"
     },
     "output_type": "display_data"
    }
   ],
   "source": [
    "import matplotlib.pyplot as plt\n",
    "\n",
    "fig = plt.figure()\n",
    "ax = fig.add_subplot(111)\n",
    "plt.plot(np.arange(1, len(scores)+1), scores)\n",
    "plt.ylabel('Score')\n",
    "plt.xlabel('Episode #')\n",
    "plt.title('Score achieved with Noise and individual Memory for each Actor')\n",
    "plt.show();"
   ]
  },
  {
   "cell_type": "code",
   "execution_count": 27,
   "metadata": {},
   "outputs": [],
   "source": [
    "## Removed noise and individual memory for each Actor"
   ]
  },
  {
   "cell_type": "code",
   "execution_count": 29,
   "metadata": {},
   "outputs": [
    {
     "data": {
      "image/png": "[encoded data removed]",
      "text/plain": [
       "<Figure size 432x288 with 1 Axes>"
      ]
     },
     "metadata": {
      "needs_background": "light"
     },
     "output_type": "display_data"
    }
   ],
   "source": [
    "import matplotlib.pyplot as plt\n",
    "\n",
    "fig = plt.figure()\n",
    "ax = fig.add_subplot(111)\n",
    "plt.plot(np.arange(1, len(scores)+1), scores)\n",
    "plt.ylabel('Score')\n",
    "plt.xlabel('Episode #')\n",
    "plt.title('Score achieved without Noise and individual Memory for each Actor')\n",
    "plt.show();"
   ]
  },
  {
   "cell_type": "code",
   "execution_count": null,
   "metadata": {},
   "outputs": [],
   "source": [
    "## Removed noise and memory shared between Actor\n",
    "## With shared memory the network converges faster"
   ]
  },
  {
   "cell_type": "code",
   "execution_count": 19,
   "metadata": {},
   "outputs": [
    {
     "data": {
      "image/png": "[encoded data removed]",
      "text/plain": [
       "<Figure size 432x288 with 1 Axes>"
      ]
     },
     "metadata": {
      "needs_background": "light"
     },
     "output_type": "display_data"
    }
   ],
   "source": [
    "import matplotlib.pyplot as plt\n",
    "\n",
    "fig = plt.figure()\n",
    "ax = fig.add_subplot(111)\n",
    "plt.plot(np.arange(1, len(scores)+1), scores)\n",
    "plt.ylabel('Score')\n",
    "plt.xlabel('Episode #')\n",
    "plt.title('Score achieved without Noise and Memory shared between Actor')\n",
    "plt.show();"
   ]
  },
  {
   "cell_type": "markdown",
   "metadata": {},
   "source": [
    "### Loaded the trained Actor"
   ]
  },
  {
   "cell_type": "code",
   "execution_count": 15,
   "metadata": {},
   "outputs": [
    {
     "name": "stdout",
     "output_type": "stream",
     "text": [
      "\tAgent 1 .Actor Loaded \n",
      "\tAgent 2 .Actor Loaded \n"
     ]
    }
   ],
   "source": [
    "##Test the environment\n",
    "import os\n",
    "#Create the agent\n",
    "multi_agents_actor = []\n",
    "for i in range(n_agents):\n",
    "    ##2 actors\n",
    "    multi_agents_actor.append(Actor(action_size, state_size,BUFFER_SIZE, BATCH_SIZE,LR_ACTOR,LR_CRITIC,device,\n",
    "                              WEIGHT_DECAY,TAU,shared_memory,noise,share_memory_flag,seed=i))\n",
    "\n",
    "##One Critic for 2 actors\n",
    "#multi_agents_critic= Critic(action_size, state_size,BUFFER_SIZE, BATCH_SIZE,LR_ACTOR,LR_CRITIC,device,\n",
    "#                              WEIGHT_DECAY,TAU,share_memory_flag, seed=0)\n",
    "\n",
    "##Loaded last trained model\n",
    "for i in range(n_agents):\n",
    "    ##Load 2 actors\n",
    "    actor_checkpoint_filename = 'actor'+ str(i) + '.pth'\n",
    "    \n",
    "    ##Load the trained actor and critic to continue training\n",
    "    if os.path.exists(os.path.join('./'+ actor_checkpoint_filename)):\n",
    "        multi_agents_actor[i].actor_local.load_state_dict(torch.load(os.path.join('./'+ actor_checkpoint_filename)))\n",
    "        print('\\tAgent',i+1,'.Actor Loaded \\n', end =\"\")\n"
   ]
  },
  {
   "cell_type": "markdown",
   "metadata": {},
   "source": [
    "### Test the environment"
   ]
  },
  {
   "cell_type": "code",
   "execution_count": 17,
   "metadata": {},
   "outputs": [
    {
     "name": "stdout",
     "output_type": "stream",
     "text": [
      "Episode: \t1 \tScore: \t0.00\n",
      "Episode: \t2 \tScore: \t2.60\n",
      "Episode: \t3 \tScore: \t0.00\n",
      "Episode: \t4 \tScore: \t2.60\n",
      "Episode: \t5 \tScore: \t0.00\n",
      "Episode: \t6 \tScore: \t0.30\n",
      "Episode: \t7 \tScore: \t2.60\n",
      "Episode: \t8 \tScore: \t0.00\n",
      "Episode: \t9 \tScore: \t0.10\n",
      "Episode: \t10 \tScore: \t2.60\n"
     ]
    }
   ],
   "source": [
    "\n",
    "for episode in range(1, 10+1):\n",
    "    \n",
    "    env_info = env.reset(train_mode=False)[brain_name]     # reset the environment    \n",
    "    states = env_info.vector_observations                 # get the current state (for each agent)\n",
    "    score = np.zeros(num_agents)                          # initialize the score (for each agent)\n",
    "    \n",
    "    ##reset the noise\n",
    "    for i in range(n_agents):\n",
    "        multi_agents_actor[i].reset()\n",
    "    \n",
    "    while True:\n",
    "        #print(episode)\n",
    "        actions =[]\n",
    "        ##Deal with each agent separately\n",
    "        for i in range(n_agents):\n",
    "            \n",
    "            #multistate[i] = states[i]\n",
    "            \n",
    "            #states = states.reshape(1,-1)\n",
    "            ##action = multi_agents[i].act(states[i].reshape(1,-1))\n",
    "            action = multi_agents_actor[i].act(states[i], noise= False)\n",
    "            actions.append(action)\n",
    "        \n",
    "        actions = np.vstack([action for action in actions])\n",
    "        env_info = env.step(actions.reshape(-1))[brain_name]           # send all actions to tne environment\n",
    "    \n",
    "        next_states = env_info.vector_observations         # get next state (for each agent)\n",
    "        #next_states = next_states.reshape(1,-1)\n",
    "        rewards = env_info.rewards                         # get reward (for each agent)\n",
    "        dones = env_info.local_done                        # see if episode finished\n",
    "        \n",
    "        score += rewards                                    # update the score (for each agent)\n",
    "        states = next_states                                 # roll over states to next time step\n",
    "        if np.any( dones ):\n",
    "            break\n",
    "        ## End of 1 episode\n",
    "    #scores.append(np.max(score))\n",
    "    \n",
    "    print('Episode: \\t{} \\tScore: \\t{:.2f}'.format(episode, np.max(score)))   \n"
   ]
  },
  {
   "cell_type": "markdown",
   "metadata": {},
   "source": [
    "When finished, you can close the environment."
   ]
  },
  {
   "cell_type": "code",
   "execution_count": 18,
   "metadata": {},
   "outputs": [
    {
     "ename": "UnityEnvironmentException",
     "evalue": "No Unity environment is loaded.",
     "output_type": "error",
     "traceback": [
      "\u001b[1;31m---------------------------------------------------------------------------\u001b[0m",
      "\u001b[1;31mUnityEnvironmentException\u001b[0m                 Traceback (most recent call last)",
      "\u001b[1;32m<ipython-input-18-1baceacf4cb1>\u001b[0m in \u001b[0;36m<module>\u001b[1;34m\u001b[0m\n\u001b[1;32m----> 1\u001b[1;33m \u001b[0menv\u001b[0m\u001b[1;33m.\u001b[0m\u001b[0mclose\u001b[0m\u001b[1;33m(\u001b[0m\u001b[1;33m)\u001b[0m\u001b[1;33m\u001b[0m\u001b[1;33m\u001b[0m\u001b[0m\n\u001b[0m",
      "\u001b[1;32mc:\\users\\kaustav\\anaconda3\\envs\\drlnd\\lib\\site-packages\\unityagents\\environment.py\u001b[0m in \u001b[0;36mclose\u001b[1;34m(self)\u001b[0m\n\u001b[0;32m    392\u001b[0m             \u001b[0mself\u001b[0m\u001b[1;33m.\u001b[0m\u001b[0m_close\u001b[0m\u001b[1;33m(\u001b[0m\u001b[1;33m)\u001b[0m\u001b[1;33m\u001b[0m\u001b[1;33m\u001b[0m\u001b[0m\n\u001b[0;32m    393\u001b[0m         \u001b[1;32melse\u001b[0m\u001b[1;33m:\u001b[0m\u001b[1;33m\u001b[0m\u001b[1;33m\u001b[0m\u001b[0m\n\u001b[1;32m--> 394\u001b[1;33m             \u001b[1;32mraise\u001b[0m \u001b[0mUnityEnvironmentException\u001b[0m\u001b[1;33m(\u001b[0m\u001b[1;34m\"No Unity environment is loaded.\"\u001b[0m\u001b[1;33m)\u001b[0m\u001b[1;33m\u001b[0m\u001b[1;33m\u001b[0m\u001b[0m\n\u001b[0m\u001b[0;32m    395\u001b[0m \u001b[1;33m\u001b[0m\u001b[0m\n\u001b[0;32m    396\u001b[0m     \u001b[1;32mdef\u001b[0m \u001b[0m_close\u001b[0m\u001b[1;33m(\u001b[0m\u001b[0mself\u001b[0m\u001b[1;33m)\u001b[0m\u001b[1;33m:\u001b[0m\u001b[1;33m\u001b[0m\u001b[1;33m\u001b[0m\u001b[0m\n",
      "\u001b[1;31mUnityEnvironmentException\u001b[0m: No Unity environment is loaded."
     ]
    }
   ],
   "source": [
    "env.close()"
   ]
  },
  {
   "cell_type": "markdown",
   "metadata": {},
   "source": [
    "### Future Ideas"
   ]
  },
  {
   "cell_type": "markdown",
   "metadata": {},
   "source": [
    "I stil want to check this task with the A2C , D4PG algorithm and discover when and where each of the algorithms (DDPG vs. D4PG) have the best performance. I also want to check if using Advantage Critic benefits this task. I want to explore I want to try with experienced replay. We may learn more from rare but important events in that case.I think we may also try N-Step boostrapping instead 1 step for bias-variance tradeoff. I think the reward calculation using GAE may also benefit."
   ]
  },
  {
   "cell_type": "code",
   "execution_count": null,
   "metadata": {},
   "outputs": [],
   "source": []
  }
 ],
 "metadata": {
  "kernelspec": {
   "display_name": "Python 3",
   "language": "python",
   "name": "python3"
  },
  "language_info": {
   "codemirror_mode": {
    "name": "ipython",
    "version": 3
   },
   "file_extension": ".py",
   "mimetype": "text/x-python",
   "name": "python",
   "nbconvert_exporter": "python",
   "pygments_lexer": "ipython3",
   "version": "3.6.7"
  }
 },
 "nbformat": 4,
 "nbformat_minor": 2
}
